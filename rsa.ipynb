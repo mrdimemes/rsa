{
 "cells": [
  {
   "cell_type": "markdown",
   "metadata": {},
   "source": [
    "# About this\n",
    "This is an implementation of the RSA algorithm made for fun. Based on default Python tools (such as math and random libraries).\n",
    "___\n",
    "Includes key generation functions (be careful, you may get a bad key using it, because prime numbers takes randomly and not pass any tests. OpenSSL is better choice);  \n",
    "message encoding and decoding functions by PKCS#1 protocol;  \n",
    "encryption and decryption functions.\n",
    "___\n",
    "Keys processed as (a, b) tuples!"
   ]
  },
  {
   "cell_type": "markdown",
   "metadata": {},
   "source": [
    "## import block"
   ]
  },
  {
   "cell_type": "code",
   "execution_count": 17,
   "metadata": {},
   "outputs": [],
   "source": [
    "import math\n",
    "import random"
   ]
  },
  {
   "cell_type": "markdown",
   "metadata": {},
   "source": [
    "## functions for working with bytes"
   ]
  },
  {
   "cell_type": "code",
   "execution_count": 18,
   "metadata": {},
   "outputs": [],
   "source": [
    "def how_many_bytes(i):\n",
    "    '''\n",
    "    i - int.\n",
    "    Returns the minimum number of bytes needed to represent i\n",
    "    '''\n",
    "    return math.ceil(math.log2(i)/8)"
   ]
  },
  {
   "cell_type": "code",
   "execution_count": 19,
   "metadata": {},
   "outputs": [],
   "source": [
    "def string_to_bytes(string):\n",
    "    return bytes(string, encoding='utf-8')"
   ]
  },
  {
   "cell_type": "code",
   "execution_count": 20,
   "metadata": {},
   "outputs": [],
   "source": [
    "def bytes_to_string(b):\n",
    "    return str(b, encoding='utf-8')"
   ]
  },
  {
   "cell_type": "code",
   "execution_count": 21,
   "metadata": {},
   "outputs": [],
   "source": [
    "def bytes_to_int(b):\n",
    "    return int.from_bytes(b, byteorder='big')"
   ]
  },
  {
   "cell_type": "code",
   "execution_count": 22,
   "metadata": {},
   "outputs": [],
   "source": [
    "def int_to_bytes(i):\n",
    "    return i.to_bytes(length=how_many_bytes(i), byteorder='big')"
   ]
  },
  {
   "cell_type": "code",
   "execution_count": 23,
   "metadata": {},
   "outputs": [],
   "source": [
    "def get_ps(length):\n",
    "    '''Returns a pseudo random byte sequence without null values'''\n",
    "    return bytes([random.randint(2, 255) for i in range(length)])"
   ]
  },
  {
   "cell_type": "markdown",
   "metadata": {},
   "source": [
    "## auxiliary mathematical functions"
   ]
  },
  {
   "cell_type": "code",
   "execution_count": 24,
   "metadata": {},
   "outputs": [],
   "source": [
    "def euclid_ext(a, b):\n",
    "    '''Extended euclidean algorithm'''\n",
    "    u, v = (a, 1, 0), (b, 0, 1)\n",
    "    while v[0] > 0:\n",
    "        q = u[0] // v[0]\n",
    "        u, v = v, (u[0]-q*v[0], u[1]-q*v[1], u[2]-q*v[2])\n",
    "    return u"
   ]
  },
  {
   "cell_type": "code",
   "execution_count": 25,
   "metadata": {},
   "outputs": [],
   "source": [
    "def invert(a, m):\n",
    "    '''\n",
    "    a, m - int.\n",
    "    Returns the multiplicative inverse of a modulo m\n",
    "    '''\n",
    "    u = euclid_ext(a, m)\n",
    "    assert u[0] == 1\n",
    "    return u[1] % m"
   ]
  },
  {
   "cell_type": "code",
   "execution_count": 26,
   "metadata": {},
   "outputs": [],
   "source": [
    "def solovay_strassen_test(n, k=10):\n",
    "    '''\n",
    "    n - int > 2; k - number of checks.\n",
    "    Returns False if n isn't prime and True if n is probable prime\n",
    "    '''\n",
    "    if n % 2 == 0:\n",
    "        return False\n",
    "    for i in range(k):\n",
    "        a = random.randint(2, n-1)\n",
    "        if euclid_ext(a, n)[0] > 1:\n",
    "            return False\n",
    "        if pow(a, (n-1)//2, n) != J(a, n) % n:\n",
    "            return False\n",
    "    return True"
   ]
  },
  {
   "cell_type": "code",
   "execution_count": 27,
   "metadata": {},
   "outputs": [],
   "source": [
    "def J(a, b):\n",
    "    '''\n",
    "    a, b - int.\n",
    "    Returns the Jacobi character (a / b)\n",
    "    '''\n",
    "    if euclid_ext(a, b)[0] != 1:\n",
    "        return 0\n",
    "    r = 1\n",
    "    if a < 0:\n",
    "        a = -a\n",
    "        if b % 4 == 3:\n",
    "            r = -r\n",
    "    while a != 0:\n",
    "        t = 0\n",
    "        while a % 2 == 0:\n",
    "            t += 1\n",
    "            a = a//2\n",
    "        if t % 2 != 0:\n",
    "            if b % 8 in (3, 5):\n",
    "                r = -r\n",
    "        if a % 4 == 3 and b % 4 == 3:\n",
    "            r = -r\n",
    "        a, b = b % a, a\n",
    "    return r"
   ]
  },
  {
   "cell_type": "markdown",
   "metadata": {},
   "source": [
    "## keys generation block"
   ]
  },
  {
   "cell_type": "code",
   "execution_count": 28,
   "metadata": {},
   "outputs": [],
   "source": [
    "def get_prime_numbers(n=2, lower_limit=2**1024, upper_limit=2**2048):\n",
    "    '''\n",
    "    Return list of prime numbers of n elements\n",
    "    from range (lower_limit, upper_limit)\n",
    "    '''\n",
    "    ans = []\n",
    "    for i in range(n):\n",
    "        while True:\n",
    "            a = random.randint(lower_limit, upper_limit)\n",
    "            if solovay_strassen_test(a):\n",
    "                ans.append(a)\n",
    "                break\n",
    "    return ans"
   ]
  },
  {
   "cell_type": "code",
   "execution_count": 29,
   "metadata": {},
   "outputs": [],
   "source": [
    "def get_public_key(p, q, e_lower_limit=2**15, e_upper_limit=2**20):\n",
    "    '''\n",
    "    p, q - prime numbers (int).\n",
    "    Returns tuple (e, n): e is prime number\n",
    "    from range (e_lower_limit, e_upper_limit),\n",
    "    n is composition of p and q\n",
    "    '''\n",
    "    n = p * q\n",
    "    m = (p - 1) * (q - 1)\n",
    "    while True:\n",
    "        e = get_prime_numbers(n=1, lower_limit=e_lower_limit, upper_limit=e_upper_limit)[0]\n",
    "        if euclid_ext(e, m)[0] == 1:\n",
    "            break\n",
    "    return (e, n)"
   ]
  },
  {
   "cell_type": "code",
   "execution_count": 30,
   "metadata": {},
   "outputs": [],
   "source": [
    "def get_secret_key(p, q, e):\n",
    "    '''\n",
    "    p, q, e - prime numbers (int).\n",
    "    Returns tuple (d, n): d is multiplicative inverse of e,\n",
    "    n is composition of p and q\n",
    "    '''\n",
    "    n = p * q\n",
    "    m = (p - 1) * (q - 1)\n",
    "    d = invert(e, m)\n",
    "    return (d, n)"
   ]
  },
  {
   "cell_type": "markdown",
   "metadata": {},
   "source": [
    "## coding block"
   ]
  },
  {
   "cell_type": "code",
   "execution_count": 31,
   "metadata": {},
   "outputs": [],
   "source": [
    "def encode(plain_msg, key):\n",
    "    '''\n",
    "    Encode ANCII by PKCS#1 protocol.\n",
    "    plain_msg - str; key - RSA key (typle of e and n).\n",
    "    Returns EM byte sequence\n",
    "    '''\n",
    "    byted_msg = string_to_bytes(plain_msg)\n",
    "    total_bytes = how_many_bytes(key[1])\n",
    "    num_of_msg_bytes = how_many_bytes(bytes_to_int(byted_msg))\n",
    "    num_of_ps_bytes = total_bytes - num_of_msg_bytes - 3\n",
    "    ps = get_ps(num_of_ps_bytes)\n",
    "    return bytes([0, 2]) + ps + bytes([0]) + byted_msg"
   ]
  },
  {
   "cell_type": "code",
   "execution_count": 32,
   "metadata": {},
   "outputs": [],
   "source": [
    "def decode(em):\n",
    "    '''\n",
    "    Decode ANCII by PKCS#1 protocol.\n",
    "    em - EM byte sequence.\n",
    "    Returns decoded string\n",
    "    '''\n",
    "    idx = 0\n",
    "    for b in em:\n",
    "        if b == 0 and idx > 0:\n",
    "            break\n",
    "        idx += 1\n",
    "    msg = em[idx+1:]\n",
    "    return bytes_to_string(msg)"
   ]
  },
  {
   "cell_type": "markdown",
   "metadata": {},
   "source": [
    "## RSA main function"
   ]
  },
  {
   "cell_type": "code",
   "execution_count": 33,
   "metadata": {},
   "outputs": [],
   "source": [
    "def crypt(msg, key):\n",
    "    '''\n",
    "    Realisation of RSA encrypt/decrypt algorithm.\n",
    "    msg - int; key - tuple.\n",
    "    Returns encrypted/decrypted value (int)\n",
    "    '''\n",
    "    return pow(msg, key[0], key[1])"
   ]
  },
  {
   "cell_type": "markdown",
   "metadata": {},
   "source": [
    "## encryption / decryption wrapping functions"
   ]
  },
  {
   "cell_type": "code",
   "execution_count": 34,
   "metadata": {},
   "outputs": [],
   "source": [
    "def encrypt_msg(msg, public_key):\n",
    "    '''\n",
    "    msg - str, puplic_key - typle (e, n) of RSA public key.\n",
    "    Returns encrypted int value\n",
    "    '''\n",
    "    em = encode(msg, public_key)\n",
    "    m = bytes_to_int(em)\n",
    "    return crypt(m, public_key)"
   ]
  },
  {
   "cell_type": "code",
   "execution_count": 35,
   "metadata": {},
   "outputs": [],
   "source": [
    "def decrypt_msg(cipher_msg, secret_key):\n",
    "    '''\n",
    "    cipher_msg - int, puplic_key - typle (d, n) of RSA secret key.\n",
    "    Returns decrypted str value\n",
    "    '''\n",
    "    m = crypt(cipher_msg, secret_key)\n",
    "    em = int_to_bytes(m)\n",
    "    return decode(em)"
   ]
  },
  {
   "cell_type": "markdown",
   "metadata": {},
   "source": [
    "# Example"
   ]
  },
  {
   "cell_type": "code",
   "execution_count": 37,
   "metadata": {},
   "outputs": [],
   "source": [
    "#may takes a few seconds\n",
    "p, q = get_prime_numbers()"
   ]
  },
  {
   "cell_type": "code",
   "execution_count": 47,
   "metadata": {},
   "outputs": [
    {
     "name": "stdout",
     "output_type": "stream",
     "text": [
      "length of p: 616\n",
      "length of q: 616\n"
     ]
    }
   ],
   "source": [
    "#print(p)\n",
    "#print(q)\n",
    "print(\"length of p: {}\\nlength of q: {}\".format(len(str(p)), len(str(q))))"
   ]
  },
  {
   "cell_type": "code",
   "execution_count": 48,
   "metadata": {},
   "outputs": [],
   "source": [
    "pub_key = get_public_key(p, q)    #tuple (e, n)\n",
    "sec_key = get_secret_key(p, q, pub_key[0])    #tuple (d, n)"
   ]
  },
  {
   "cell_type": "code",
   "execution_count": 54,
   "metadata": {},
   "outputs": [
    {
     "data": {
      "text/plain": [
       "True"
      ]
     },
     "execution_count": 54,
     "metadata": {},
     "output_type": "execute_result"
    }
   ],
   "source": [
    "msg = \"Hi, GitHub\"\n",
    "encrypted_msg = encrypt_msg(msg, pub_key)\n",
    "decrypted_msg = decrypt_msg(encrypted_msg, sec_key)\n",
    "decrypted_msg == msg"
   ]
  },
  {
   "cell_type": "code",
   "execution_count": 55,
   "metadata": {},
   "outputs": [
    {
     "data": {
      "text/plain": [
       "9589158054788708542848201716238094571746765104182699640399924704499573468715371165800574300807945869227236934030490936407464224253447238306021518130361049035370840627263371672416942672881523445999393032226731576843618093506130848053937998410734729508042576713551816668377369630351257640409917339118495076832274580587372931634521786375887647426710354649092515593435267607833195856741324641208605101033469408585310097788229099709463188224793744914437932141438364033029036070994056938145685090446902002149838107905819515648421024426868188342167418562015842148478657908838281049046942828785130487168725780778267164359700371865980596861752814131901012755380416342263222585709034268367581398815343789091478029696353692798784897566588634484726160657154886012559219307810505204113274617631789665097286574518288559289763279166932945104781870342193124765811151206426376288765418777965023720059067050480608680249724061493338833183450845498725006339795262399923234184070265416258381945208838637369761512444641708283819270343706271854776919994038459120544389233941685667998240501781047769525585719568214216336789084007789724513482718914108346100553879249235863729409417260737413515590074807985909723420756971595272592364587900114055177218911824"
      ]
     },
     "execution_count": 55,
     "metadata": {},
     "output_type": "execute_result"
    }
   ],
   "source": [
    "encrypted_msg"
   ]
  },
  {
   "cell_type": "code",
   "execution_count": 56,
   "metadata": {},
   "outputs": [
    {
     "data": {
      "text/plain": [
       "'Hi, GitHub'"
      ]
     },
     "execution_count": 56,
     "metadata": {},
     "output_type": "execute_result"
    }
   ],
   "source": [
    "decrypted_msg"
   ]
  }
 ],
 "metadata": {
  "kernelspec": {
   "display_name": "Python 3",
   "language": "python",
   "name": "python3"
  },
  "language_info": {
   "codemirror_mode": {
    "name": "ipython",
    "version": 3
   },
   "file_extension": ".py",
   "mimetype": "text/x-python",
   "name": "python",
   "nbconvert_exporter": "python",
   "pygments_lexer": "ipython3",
   "version": "3.7.6"
  }
 },
 "nbformat": 4,
 "nbformat_minor": 4
}
